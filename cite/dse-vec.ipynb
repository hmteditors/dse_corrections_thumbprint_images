{
 "cells": [
  {
   "cell_type": "markdown",
   "metadata": {},
   "source": [
    "# Loading a DSE Vector\n",
    "\n",
    "\n"
   ]
  },
  {
   "cell_type": "markdown",
   "metadata": {},
   "source": [
    "## Configuring CITE libraries for almond kernel\n",
    "\n",
    "First, we'll make a bintray repository with CITE libraries available to your almond kernel."
   ]
  },
  {
   "cell_type": "code",
   "execution_count": 97,
   "metadata": {},
   "outputs": [
    {
     "data": {
      "text/plain": [
       "\u001b[36mmyBT\u001b[39m: \u001b[32mcoursierapi\u001b[39m.\u001b[32mMavenRepository\u001b[39m = MavenRepository(https://dl.bintray.com/neelsmith/maven)"
      ]
     },
     "execution_count": 97,
     "metadata": {},
     "output_type": "execute_result"
    }
   ],
   "source": [
    "val myBT = coursierapi.MavenRepository.of(\"https://dl.bintray.com/neelsmith/maven\")\n",
    "interp.repositories() ++= Seq(myBT)"
   ]
  },
  {
   "cell_type": "markdown",
   "metadata": {},
   "source": [
    "Next, we bring in specific libraries from the new repository using almond's `$ivy` magic:"
   ]
  },
  {
   "cell_type": "code",
   "execution_count": 98,
   "metadata": {},
   "outputs": [
    {
     "data": {
      "text/plain": [
       "\u001b[32mimport \u001b[39m\u001b[36m$ivy.$                                  \n",
       "\u001b[39m\n",
       "\u001b[32mimport \u001b[39m\u001b[36m$ivy.$                                     \n",
       "\u001b[39m\n",
       "\u001b[32mimport \u001b[39m\u001b[36m$ivy.$                              \n",
       "\u001b[39m\n",
       "\u001b[32mimport \u001b[39m\u001b[36m$ivy.$                              \n",
       "\u001b[39m\n",
       "\u001b[32mimport \u001b[39m\u001b[36m$ivy.$                                          \n",
       "\u001b[39m\n",
       "\u001b[32mimport \u001b[39m\u001b[36m$ivy.$                                  \n",
       "\u001b[39m\n",
       "\u001b[32mimport \u001b[39m\u001b[36m$ivy.$                                        \n",
       "\u001b[39m\n",
       "\u001b[32mimport \u001b[39m\u001b[36m$ivy.$                              \n",
       "\u001b[39m"
      ]
     },
     "execution_count": 98,
     "metadata": {},
     "output_type": "execute_result"
    }
   ],
   "source": [
    "import $ivy.`edu.holycross.shot::ohco2:10.16.0`\n",
    "import $ivy.`edu.holycross.shot.cite::xcite:4.1.1`\n",
    "import $ivy.`edu.holycross.shot::scm:7.2.0`\n",
    "import $ivy.`edu.holycross.shot::dse:5.2.2`\n",
    "import $ivy.`edu.holycross.shot::citebinaryimage:3.1.1`\n",
    "import $ivy.`edu.holycross.shot::citeobj:7.3.4`\n",
    "import $ivy.`edu.holycross.shot::citerelations:2.5.2`\n",
    "import $ivy.`edu.holycross.shot::cex:6.3.3`\n"
   ]
  },
  {
   "cell_type": "markdown",
   "metadata": {},
   "source": [
    "## Imports\n",
    "\n",
    "From this point on, your notebook consists of completely generic Scala, with the CITE Libraries available to use."
   ]
  },
  {
   "cell_type": "code",
   "execution_count": 99,
   "metadata": {},
   "outputs": [
    {
     "data": {
      "text/plain": [
       "\u001b[32mimport \u001b[39m\u001b[36medu.holycross.shot.cite._\n",
       "\u001b[39m\n",
       "\u001b[32mimport \u001b[39m\u001b[36medu.holycross.shot.ohco2._\n",
       "\u001b[39m\n",
       "\u001b[32mimport \u001b[39m\u001b[36medu.holycross.shot.scm._\n",
       "\u001b[39m\n",
       "\u001b[32mimport \u001b[39m\u001b[36medu.holycross.shot.citeobj._\n",
       "\u001b[39m\n",
       "\u001b[32mimport \u001b[39m\u001b[36medu.holycross.shot.citerelation._\n",
       "\u001b[39m\n",
       "\u001b[32mimport \u001b[39m\u001b[36medu.holycross.shot.dse._\n",
       "\u001b[39m\n",
       "\u001b[32mimport \u001b[39m\u001b[36medu.holycross.shot.citebinaryimage._\n",
       "\u001b[39m\n",
       "\u001b[32mimport \u001b[39m\u001b[36medu.holycross.shot.ohco2._\n",
       "\n",
       "\u001b[39m\n",
       "\u001b[32mimport \u001b[39m\u001b[36malmond.display.UpdatableDisplay\n",
       "\u001b[39m\n",
       "\u001b[32mimport \u001b[39m\u001b[36malmond.interpreter.api.DisplayData.ContentType\n",
       "\u001b[39m\n",
       "\u001b[32mimport \u001b[39m\u001b[36malmond.interpreter.api.{DisplayData, OutputHandler}\u001b[39m"
      ]
     },
     "execution_count": 99,
     "metadata": {},
     "output_type": "execute_result"
    }
   ],
   "source": [
    "// Import some CITE libraries\n",
    "import edu.holycross.shot.cite._\n",
    "import edu.holycross.shot.ohco2._\n",
    "import edu.holycross.shot.scm._\n",
    "import edu.holycross.shot.citeobj._\n",
    "import edu.holycross.shot.citerelation._\n",
    "import edu.holycross.shot.dse._\n",
    "import edu.holycross.shot.citebinaryimage._\n",
    "import edu.holycross.shot.ohco2._\n",
    "\n",
    "import almond.display.UpdatableDisplay\n",
    "import almond.interpreter.api.DisplayData.ContentType\n",
    "import almond.interpreter.api.{DisplayData, OutputHandler}"
   ]
  },
  {
   "cell_type": "markdown",
   "metadata": {},
   "source": [
    "## Load a Template File"
   ]
  },
  {
   "cell_type": "code",
   "execution_count": 100,
   "metadata": {},
   "outputs": [
    {
     "data": {
      "text/plain": [
       "\u001b[36mtemplateFiles\u001b[39m: \u001b[32mVector\u001b[39m[\u001b[32mString\u001b[39m] = \u001b[33mVector\u001b[39m(\n",
       "  \u001b[32m\"new_dse_template_186r.txt\"\u001b[39m,\n",
       "  \u001b[32m\"new_dse_template_83r.txt\"\u001b[39m,\n",
       "  \u001b[32m\"new_dse_template_181r.txt\"\u001b[39m,\n",
       "  \u001b[32m\"new_dse_template_182r.txt\"\u001b[39m,\n",
       "  \u001b[32m\"new_dse_template_183r.txt\"\u001b[39m,\n",
       "  \u001b[32m\"new_dse_template_184r.txt\"\u001b[39m,\n",
       "  \u001b[32m\"new_dse_template_185r.txt\"\u001b[39m,\n",
       "  \u001b[32m\"new_dse_template_187r.txt\"\u001b[39m,\n",
       "  \u001b[32m\"new_dse_template_188r.txt\"\u001b[39m,\n",
       "  \u001b[32m\"new_dse_template_190r.txt\"\u001b[39m\n",
       ")"
      ]
     },
     "execution_count": 100,
     "metadata": {},
     "output_type": "execute_result"
    }
   ],
   "source": [
    "val templateFiles: Vector[String] = Vector(\n",
    "\"new_dse_template_186r.txt\",\n",
    "\"new_dse_template_83r.txt\",\n",
    "\"new_dse_template_181r.txt\",\n",
    "\"new_dse_template_182r.txt\",\n",
    "\"new_dse_template_183r.txt\",\n",
    "\"new_dse_template_184r.txt\",\n",
    "\"new_dse_template_185r.txt\",\n",
    "\"new_dse_template_187r.txt\",\n",
    "\"new_dse_template_188r.txt\",\n",
    "\"new_dse_template_190r.txt\"\n",
    ")\n",
    "\n"
   ]
  },
  {
   "cell_type": "markdown",
   "metadata": {},
   "source": [
    "Pick one template from the list:"
   ]
  },
  {
   "cell_type": "code",
   "execution_count": 101,
   "metadata": {},
   "outputs": [
    {
     "data": {
      "text/plain": [
       "\u001b[36mthisTemplate\u001b[39m: \u001b[32mString\u001b[39m = \u001b[32m\"new_dse_template_188r.txt\"\u001b[39m"
      ]
     },
     "execution_count": 101,
     "metadata": {},
     "output_type": "execute_result"
    }
   ],
   "source": [
    "val thisTemplate: String = templateFiles(8)"
   ]
  },
  {
   "cell_type": "markdown",
   "metadata": {},
   "source": [
    "Load it:"
   ]
  },
  {
   "cell_type": "code",
   "execution_count": 102,
   "metadata": {},
   "outputs": [
    {
     "data": {
      "text/plain": [
       "\u001b[36mfilePath\u001b[39m: \u001b[32mString\u001b[39m = \u001b[32m\"https://raw.githubusercontent.com/hmteditors/dse_corrections_thumbprint_images/master/templates/new_dse_template_188r.txt\"\u001b[39m\n",
       "\u001b[36mlines\u001b[39m: \u001b[32mVector\u001b[39m[\u001b[32mString\u001b[39m] = \u001b[33mVector\u001b[39m(\n",
       "  \u001b[32m\"urn:cite2:hmt:va_dse.v1:schol5262#DSE record for scholion msA 14.D1#urn:cts:greekLit:tlg5026.msA.dipl:14.D1#urn:cite2:hmt:vaimg.2017a:VA188RN_0359@0.5822,0.2422,0.1971,0.06058#urn:cite2:hmt:msA.v1:188r\"\u001b[39m,\n",
       "  \u001b[32m\"urn:cite2:hmt:va_dse.v1:schol5263#DSE record for scholion msA 14.D2#urn:cts:greekLit:tlg5026.msA.dipl:14.D2#urn:cite2:hmt:vaimg.2017a:VA188RN_0359@0.5759,0.3008,0.2067,0.2595#urn:cite2:hmt:msA.v1:188r\"\u001b[39m,\n",
       "  \u001b[32m\"urn:cite2:hmt:va_dse.v1:schol5264#DSE record for scholion msA 14.D3#urn:cts:greekLit:tlg5026.msA.dipl:14.D3#urn:cite2:hmt:vaimg.2017a:VA188RN_0359@NEWROI#urn:cite2:hmt:msA.v1:188r\"\u001b[39m,\n",
       "  \u001b[32m\"urn:cite2:hmt:va_dse.v1:schol5265#DSE record for scholion msA 14.D4#urn:cts:greekLit:tlg5026.msA.dipl:14.D4#urn:cite2:hmt:vaimg.2017a:VA188RN_0359@NEWROI#urn:cite2:hmt:msA.v1:188r\"\u001b[39m,\n",
       "  \u001b[32m\"urn:cite2:hmt:va_dse.v1:schol5266#DSE record for scholion msA 14.D5#urn:cts:greekLit:tlg5026.msA.dipl:14.D5#urn:cite2:hmt:vaimg.2017a:VA188RN_0359@NEWROI#urn:cite2:hmt:msA.v1:188r\"\u001b[39m,\n",
       "  \u001b[32m\"urn:cite2:hmt:va_dse.v1:schol5267#DSE record for scholion msA 14.D6#urn:cts:greekLit:tlg5026.msA.dipl:14.D6#urn:cite2:hmt:vaimg.2017a:VA188RN_0359@NEWROI#urn:cite2:hmt:msA.v1:188r\"\u001b[39m,\n",
       "  \u001b[32m\"urn:cite2:hmt:va_dse.v1:schol5268#DSE record for scholion msA 14.D7#urn:cts:greekLit:tlg5026.msA.dipl:14.D7#urn:cite2:hmt:vaimg.2017a:VA188RN_0359@NEWROI#urn:cite2:hmt:msA.v1:188r\"\u001b[39m,\n",
       "  \u001b[32m\"urn:cite2:hmt:va_dse.v1:schol5337#DSE record for scholion msAim 14.D1#urn:cts:greekLit:tlg5026.msAim.dipl:14.D1#urn:cite2:hmt:vaimg.2017a:VA188RN_0359@NEWROI#urn:cite2:hmt:msA.v1:188r\"\u001b[39m,\n",
       "  \u001b[32m\"urn:cite2:hmt:va_dse.v1:schol5338#DSE record for scholion msAim 14.D2#urn:cts:greekLit:tlg5026.msAim.dipl:14.D2#urn:cite2:hmt:vaimg.2017a:VA188RN_0359@NEWROI#urn:cite2:hmt:msA.v1:188r\"\u001b[39m,\n",
       "  \u001b[32m\"urn:cite2:hmt:va_dse.v1:schol5392#DSE record for scholion msAint 14.D1#urn:cts:greekLit:tlg5026.msAint.dipl:14.D1#urn:cite2:hmt:vaimg.2017a:VA188RN_0359@NEWROI#urn:cite2:hmt:msA.v1:188r\"\u001b[39m,\n",
       "  \u001b[32m\"urn:cite2:hmt:va_dse.v1:schol5393#DSE record for scholion msAint 14.D2#urn:cts:greekLit:tlg5026.msAint.dipl:14.D2#urn:cite2:hmt:vaimg.2017a:VA188RN_0359@NEWROI#urn:cite2:hmt:msA.v1:188r\"\u001b[39m,\n",
       "  \u001b[32m\"urn:cite2:hmt:va_dse.v1:schol5394#DSE record for scholion msAint 14.D3#urn:cts:greekLit:tlg5026.msAint.dipl:14.D3#urn:cite2:hmt:vaimg.2017a:VA188RN_0359@NEWROI#urn:cite2:hmt:msA.v1:188r\"\u001b[39m,\n",
       "  \u001b[32m\"urn:cite2:hmt:va_dse.v1:schol5395#DSE record for scholion msAint 14.D4#urn:cts:greekLit:tlg5026.msAint.dipl:14.D4#urn:cite2:hmt:vaimg.2017a:VA188RN_0359@NEWR\u001b[39m..."
      ]
     },
     "execution_count": 102,
     "metadata": {},
     "output_type": "execute_result"
    }
   ],
   "source": [
    "val filePath = s\"https://raw.githubusercontent.com/hmteditors/dse_corrections_thumbprint_images/master/templates/${thisTemplate}\"\n",
    "val lines: Vector[String] = scala.io.Source.fromURL(filePath).mkString.split(\"\\n\").toVector"
   ]
  },
  {
   "cell_type": "markdown",
   "metadata": {},
   "source": [
    "Define some Classes"
   ]
  },
  {
   "cell_type": "code",
   "execution_count": 103,
   "metadata": {},
   "outputs": [
    {
     "data": {
      "text/plain": [
       "defined \u001b[32mclass\u001b[39m \u001b[36mDseTriple\u001b[39m\n",
       "defined \u001b[32mclass\u001b[39m \u001b[36mDseRecord\u001b[39m"
      ]
     },
     "execution_count": 103,
     "metadata": {},
     "output_type": "execute_result"
    }
   ],
   "source": [
    "case class DseTriple( passage: CtsUrn, imageroi: Cite2Urn, surface: Cite2Urn)\n",
    "case class DseRecord( urn: Cite2Urn, label: String, triple: DseTriple) {\n",
    "\toverride def toString = {\n",
    "\t\ts\"${this.urn}#${this.label}#${this.triple.passage}#${this.triple.imageroi}#${this.triple.surface}\"\n",
    "\t}\n",
    "}\n"
   ]
  },
  {
   "cell_type": "markdown",
   "metadata": {},
   "source": [
    "## Initial Validation"
   ]
  },
  {
   "cell_type": "markdown",
   "metadata": {},
   "source": [
    "If the following step fails, you have bad data:"
   ]
  },
  {
   "cell_type": "code",
   "execution_count": 77,
   "metadata": {},
   "outputs": [
    {
     "data": {
      "text/plain": [
       "\u001b[36mrecords\u001b[39m: \u001b[32mVector\u001b[39m[\u001b[32mDseRecord\u001b[39m] = \u001b[33mVector\u001b[39m(\n",
       "  \u001b[33mDseRecord\u001b[39m(\n",
       "    \u001b[33mCite2Urn\u001b[39m(\u001b[32m\"urn:cite2:hmt:va_dse.v1:schol5262\"\u001b[39m),\n",
       "    \u001b[32m\"DSE record for scholion msA 14.D1\"\u001b[39m,\n",
       "    \u001b[33mDseTriple\u001b[39m(\n",
       "      \u001b[33mCtsUrn\u001b[39m(\u001b[32m\"urn:cts:greekLit:tlg5026.msA.dipl:14.D1\"\u001b[39m),\n",
       "      \u001b[33mCite2Urn\u001b[39m(\n",
       "        \u001b[32m\"urn:cite2:hmt:vaimg.2017a:VA188RN_0359@0.5822,0.2422,0.1971,0.06058\"\u001b[39m\n",
       "      ),\n",
       "      \u001b[33mCite2Urn\u001b[39m(\u001b[32m\"urn:cite2:hmt:msA.v1:188r\"\u001b[39m)\n",
       "    )\n",
       "  ),\n",
       "  \u001b[33mDseRecord\u001b[39m(\n",
       "    \u001b[33mCite2Urn\u001b[39m(\u001b[32m\"urn:cite2:hmt:va_dse.v1:schol5263\"\u001b[39m),\n",
       "    \u001b[32m\"DSE record for scholion msA 14.D2\"\u001b[39m,\n",
       "    \u001b[33mDseTriple\u001b[39m(\n",
       "      \u001b[33mCtsUrn\u001b[39m(\u001b[32m\"urn:cts:greekLit:tlg5026.msA.dipl:14.D2\"\u001b[39m),\n",
       "      \u001b[33mCite2Urn\u001b[39m(\n",
       "        \u001b[32m\"urn:cite2:hmt:vaimg.2017a:VA188RN_0359@0.5759,0.3008,0.2067,0.2595\"\u001b[39m\n",
       "      ),\n",
       "      \u001b[33mCite2Urn\u001b[39m(\u001b[32m\"urn:cite2:hmt:msA.v1:188r\"\u001b[39m)\n",
       "    )\n",
       "  ),\n",
       "  \u001b[33mDseRecord\u001b[39m(\n",
       "    \u001b[33mCite2Urn\u001b[39m(\u001b[32m\"urn:cite2:hmt:va_dse.v1:schol5264\"\u001b[39m),\n",
       "    \u001b[32m\"DSE record for scholion msA 14.D3\"\u001b[39m,\n",
       "    \u001b[33mDseTriple\u001b[39m(\n",
       "      \u001b[33mCtsUrn\u001b[39m(\u001b[32m\"urn:cts:greekLit:tlg5026.msA.dipl:14.D3\"\u001b[39m),\n",
       "      \u001b[33mCite2Urn\u001b[39m(\u001b[32m\"urn:cite2:hmt:vaimg.2017a:VA188RN_0359@NEWROI\"\u001b[39m),\n",
       "      \u001b[33mCite2Urn\u001b[39m(\u001b[32m\"urn:cite2:hmt:msA.v1:188r\"\u001b[39m)\n",
       "    )\n",
       "  ),\n",
       "  \u001b[33mDseRecord\u001b[39m(\n",
       "    \u001b[33mCite2Urn\u001b[39m(\u001b[32m\"urn:cite2:hmt:va_dse.v1:schol5265\"\u001b[39m),\n",
       "    \u001b[32m\"DSE record for scholion msA 14.D4\"\u001b[39m,\n",
       "    \u001b[33mDseTriple\u001b[39m(\n",
       "      \u001b[33mCtsUrn\u001b[39m(\u001b[32m\"urn:cts:greekLit:tlg5026.msA.dipl:14.D4\"\u001b[39m),\n",
       "      \u001b[33mCite2Urn\u001b[39m(\u001b[32m\"urn:cite2:hmt:vaimg.2017a:VA188RN_0359@NEWROI\"\u001b[39m),\n",
       "      \u001b[33mCite2Urn\u001b[39m(\u001b[32m\"urn:cite2:hmt:msA.v1:188r\"\u001b[39m)\n",
       "..."
      ]
     },
     "execution_count": 77,
     "metadata": {},
     "output_type": "execute_result"
    }
   ],
   "source": [
    "val records: Vector[DseRecord] = {\n",
    "    lines.map( l => {\n",
    "       val urn = Cite2Urn(l.split(\"#\").toVector(0))\n",
    "       val label: String = l.split(\"#\").toVector(1)\n",
    "       val p = CtsUrn(l.split(\"#\").toVector(2))\t\n",
    "       val i = Cite2Urn(l.split(\"#\").toVector(3))\n",
    "       val s = Cite2Urn(l.split(\"#\").toVector(4))\n",
    "       DseRecord(urn, label, DseTriple(p, i, s))\n",
    "    })\n",
    "}"
   ]
  },
  {
   "cell_type": "markdown",
   "metadata": {},
   "source": [
    "Initial report:"
   ]
  },
  {
   "cell_type": "code",
   "execution_count": 90,
   "metadata": {
    "scrolled": true
   },
   "outputs": [
    {
     "name": "stdout",
     "output_type": "stream",
     "text": [
      "Bad Image URN for Object urn:cite2:hmt:va_dse.v1:schol5264:\n",
      "\turn:cite2:hmt:vaimg.2017a:VA188RN_0359@NEWROI\n",
      "\tjava.lang.ArrayIndexOutOfBoundsException: Index 1 out of bounds for length 1\n",
      "Bad Image URN for Object urn:cite2:hmt:va_dse.v1:schol5265:\n",
      "\turn:cite2:hmt:vaimg.2017a:VA188RN_0359@NEWROI\n",
      "\tjava.lang.ArrayIndexOutOfBoundsException: Index 1 out of bounds for length 1\n",
      "Bad Image URN for Object urn:cite2:hmt:va_dse.v1:schol5266:\n",
      "\turn:cite2:hmt:vaimg.2017a:VA188RN_0359@NEWROI\n",
      "\tjava.lang.ArrayIndexOutOfBoundsException: Index 1 out of bounds for length 1\n",
      "Bad Image URN for Object urn:cite2:hmt:va_dse.v1:schol5267:\n",
      "\turn:cite2:hmt:vaimg.2017a:VA188RN_0359@NEWROI\n",
      "\tjava.lang.ArrayIndexOutOfBoundsException: Index 1 out of bounds for length 1\n",
      "Bad Image URN for Object urn:cite2:hmt:va_dse.v1:schol5268:\n",
      "\turn:cite2:hmt:vaimg.2017a:VA188RN_0359@NEWROI\n",
      "\tjava.lang.ArrayIndexOutOfBoundsException: Index 1 out of bounds for length 1\n",
      "Bad Image URN for Object urn:cite2:hmt:va_dse.v1:schol5337:\n",
      "\turn:cite2:hmt:vaimg.2017a:VA188RN_0359@NEWROI\n",
      "\tjava.lang.ArrayIndexOutOfBoundsException: Index 1 out of bounds for length 1\n",
      "Bad Image URN for Object urn:cite2:hmt:va_dse.v1:schol5338:\n",
      "\turn:cite2:hmt:vaimg.2017a:VA188RN_0359@NEWROI\n",
      "\tjava.lang.ArrayIndexOutOfBoundsException: Index 1 out of bounds for length 1\n",
      "Bad Image URN for Object urn:cite2:hmt:va_dse.v1:schol5392:\n",
      "\turn:cite2:hmt:vaimg.2017a:VA188RN_0359@NEWROI\n",
      "\tjava.lang.ArrayIndexOutOfBoundsException: Index 1 out of bounds for length 1\n",
      "Bad Image URN for Object urn:cite2:hmt:va_dse.v1:schol5393:\n",
      "\turn:cite2:hmt:vaimg.2017a:VA188RN_0359@NEWROI\n",
      "\tjava.lang.ArrayIndexOutOfBoundsException: Index 1 out of bounds for length 1\n",
      "Bad Image URN for Object urn:cite2:hmt:va_dse.v1:schol5394:\n",
      "\turn:cite2:hmt:vaimg.2017a:VA188RN_0359@NEWROI\n",
      "\tjava.lang.ArrayIndexOutOfBoundsException: Index 1 out of bounds for length 1\n",
      "Bad Image URN for Object urn:cite2:hmt:va_dse.v1:schol5395:\n",
      "\turn:cite2:hmt:vaimg.2017a:VA188RN_0359@NEWROI\n",
      "\tjava.lang.ArrayIndexOutOfBoundsException: Index 1 out of bounds for length 1\n",
      "Bad Image URN for Object urn:cite2:hmt:va_dse.v1:schol5396:\n",
      "\turn:cite2:hmt:vaimg.2017a:VA188RN_0359@NEWROI\n",
      "\tjava.lang.ArrayIndexOutOfBoundsException: Index 1 out of bounds for length 1\n",
      "Bad Image URN for Object urn:cite2:hmt:va_dse.v1:schol5427:\n",
      "\turn:cite2:hmt:vaimg.2017a:VA188RN_0359@NEWROI\n",
      "\tjava.lang.ArrayIndexOutOfBoundsException: Index 1 out of bounds for length 1\n",
      "Bad Image URN for Object urn:cite2:hmt:va_dse.v1:schol5428:\n",
      "\turn:cite2:hmt:vaimg.2017a:VA188RN_0359@NEWROI\n",
      "\tjava.lang.ArrayIndexOutOfBoundsException: Index 1 out of bounds for length 1\n",
      "Bad Image URN for Object urn:cite2:hmt:va_dse.v1:schol5429:\n",
      "\turn:cite2:hmt:vaimg.2017a:VA188RN_0359@NEWROI\n",
      "\tjava.lang.ArrayIndexOutOfBoundsException: Index 1 out of bounds for length 1\n",
      "Bad Image URN for Object urn:cite2:hmt:va_dse.v1:schol5452:\n",
      "\turn:cite2:hmt:vaimg.2017a:VA188RN_0359@NEWROI\n",
      "\tjava.lang.ArrayIndexOutOfBoundsException: Index 1 out of bounds for length 1\n",
      "Bad Image URN for Object urn:cite2:hmt:va_dse.v1:schol5453:\n",
      "\turn:cite2:hmt:vaimg.2017a:VA188RN_0359@NEWROI\n",
      "\tjava.lang.ArrayIndexOutOfBoundsException: Index 1 out of bounds for length 1\n",
      "Bad Image URN for Object urn:cite2:hmt:va_dse.v1:schol5454:\n",
      "\turn:cite2:hmt:vaimg.2017a:VA188RN_0359@NEWROI\n",
      "\tjava.lang.ArrayIndexOutOfBoundsException: Index 1 out of bounds for length 1\n",
      "Bad Image URN for Object urn:cite2:hmt:va_dse.v1:schol5455:\n",
      "\turn:cite2:hmt:vaimg.2017a:VA188RN_0359@NEWROI\n",
      "\tjava.lang.ArrayIndexOutOfBoundsException: Index 1 out of bounds for length 1\n",
      "Bad Image URN for Object urn:cite2:hmt:va_dse.v1:schol5456:\n",
      "\turn:cite2:hmt:vaimg.2017a:VA188RN_0359@NEWROI\n",
      "\tjava.lang.ArrayIndexOutOfBoundsException: Index 1 out of bounds for length 1\n"
     ]
    },
    {
     "data": {
      "text/plain": [
       "\u001b[36mvalidRecords\u001b[39m: \u001b[32mVector\u001b[39m[\u001b[32mDseRecord\u001b[39m] = \u001b[33mVector\u001b[39m(\n",
       "  \u001b[33mDseRecord\u001b[39m(\n",
       "    \u001b[33mCite2Urn\u001b[39m(\u001b[32m\"urn:cite2:hmt:va_dse.v1:schol5262\"\u001b[39m),\n",
       "    \u001b[32m\"DSE record for scholion msA 14.D1\"\u001b[39m,\n",
       "    \u001b[33mDseTriple\u001b[39m(\n",
       "      \u001b[33mCtsUrn\u001b[39m(\u001b[32m\"urn:cts:greekLit:tlg5026.msA.dipl:14.D1\"\u001b[39m),\n",
       "      \u001b[33mCite2Urn\u001b[39m(\n",
       "        \u001b[32m\"urn:cite2:hmt:vaimg.2017a:VA188RN_0359@0.5822,0.2422,0.1971,0.06058\"\u001b[39m\n",
       "      ),\n",
       "      \u001b[33mCite2Urn\u001b[39m(\u001b[32m\"urn:cite2:hmt:msA.v1:188r\"\u001b[39m)\n",
       "    )\n",
       "  ),\n",
       "  \u001b[33mDseRecord\u001b[39m(\n",
       "    \u001b[33mCite2Urn\u001b[39m(\u001b[32m\"urn:cite2:hmt:va_dse.v1:schol5263\"\u001b[39m),\n",
       "    \u001b[32m\"DSE record for scholion msA 14.D2\"\u001b[39m,\n",
       "    \u001b[33mDseTriple\u001b[39m(\n",
       "      \u001b[33mCtsUrn\u001b[39m(\u001b[32m\"urn:cts:greekLit:tlg5026.msA.dipl:14.D2\"\u001b[39m),\n",
       "      \u001b[33mCite2Urn\u001b[39m(\n",
       "        \u001b[32m\"urn:cite2:hmt:vaimg.2017a:VA188RN_0359@0.5759,0.3008,0.2067,0.2595\"\u001b[39m\n",
       "      ),\n",
       "      \u001b[33mCite2Urn\u001b[39m(\u001b[32m\"urn:cite2:hmt:msA.v1:188r\"\u001b[39m)\n",
       "    )\n",
       "  )\n",
       ")"
      ]
     },
     "execution_count": 90,
     "metadata": {},
     "output_type": "execute_result"
    }
   ],
   "source": [
    "val validRecords: Vector[DseRecord] = records.filter( r => {\n",
    "    try {\n",
    "        val i: Cite2Urn = r.triple.imageroi\n",
    "        val ext: String = i.objectExtension\n",
    "        val roi = ImageROI(ext)\n",
    "        true // if we get here, keep it!\n",
    "    } catch {\n",
    "        case e: Exception => println(s\"Bad Image URN for Object ${r.urn}:\\n\\t${r.triple.imageroi}\\n\\t${e}\")\n",
    "        false\n",
    "    }\n",
    "})"
   ]
  },
  {
   "cell_type": "code",
   "execution_count": 96,
   "metadata": {},
   "outputs": [
    {
     "data": {
      "text/html": [
       "<p style=\"color: blue; font-size: 200%; display: inline-block; min-height: 2em; padding-top: 1em;\">There are <strong>2</strong> valid records, out of 22 records.</p>"
      ]
     },
     "metadata": {},
     "output_type": "display_data"
    }
   ],
   "source": [
    "Html(s\"\"\"<p style=\"color: blue; font-size: 200%; display: inline-block; min-height: 2em; padding-top: 1em;\">There are <strong>${validRecords.size}</strong> valid records, out of ${records.size} records.</p>\"\"\")"
   ]
  },
  {
   "cell_type": "markdown",
   "metadata": {},
   "source": [
    "## Verification"
   ]
  },
  {
   "cell_type": "markdown",
   "metadata": {},
   "source": [
    "Generate a link to the ICT showing all current, valid ROIs."
   ]
  },
  {
   "cell_type": "code",
   "execution_count": 89,
   "metadata": {},
   "outputs": [
    {
     "data": {
      "text/html": [
       "<a style=\"font-size: 200%; min-height: 2em; display: inline-block; padding-top: 1em; padding-bottom: 1em;}\" href=\"http://www.homermultitext.org/ict2/index.html?urn=urn:cite2:hmt:vaimg.2017a:VA188RN_0359@0.5822,0.2422,0.1971,0.06058&urn=urn:cite2:hmt:vaimg.2017a:VA188RN_0359@0.5759,0.3008,0.2067,0.2595\">Verification Link</a>"
      ]
     },
     "metadata": {},
     "output_type": "display_data"
    },
    {
     "data": {
      "text/plain": [
       "\u001b[36murlBase\u001b[39m: \u001b[32mString\u001b[39m = \u001b[32m\"http://www.homermultitext.org/ict2/index.html?urn=\"\u001b[39m\n",
       "\u001b[36murnParams\u001b[39m: \u001b[32mString\u001b[39m = \u001b[32m\"urn:cite2:hmt:vaimg.2017a:VA188RN_0359@0.5822,0.2422,0.1971,0.06058&urn=urn:cite2:hmt:vaimg.2017a:VA188RN_0359@0.5759,0.3008,0.2067,0.2595\"\u001b[39m"
      ]
     },
     "execution_count": 89,
     "metadata": {},
     "output_type": "execute_result"
    }
   ],
   "source": [
    "val urlBase = \"http://www.homermultitext.org/ict2/index.html?urn=\"\n",
    "val urnParams = validRecords.map(_.triple.imageroi).mkString(\"&urn=\")\n",
    "Html(s\"\"\"<a style=\"font-size: 200%; min-height: 2em; display: inline-block; padding-top: 1em; padding-bottom: 1em;}\" href=\"${urlBase}${urnParams}\">Verification Link</a>\"\"\")"
   ]
  },
  {
   "cell_type": "code",
   "execution_count": null,
   "metadata": {},
   "outputs": [],
   "source": []
  }
 ],
 "metadata": {
  "kernel_info": {
   "name": "scala"
  },
  "kernelspec": {
   "display_name": "Scala",
   "language": "scala",
   "name": "scala"
  },
  "language_info": {
   "codemirror_mode": "text/x-scala",
   "file_extension": ".scala",
   "mimetype": "text/x-scala",
   "name": "scala",
   "nbconvert_exporter": "script",
   "version": "2.12.10"
  },
  "nteract": {
   "version": "0.15.0"
  }
 },
 "nbformat": 4,
 "nbformat_minor": 2
}
