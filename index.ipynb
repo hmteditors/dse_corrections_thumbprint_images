{
 "cells": [
  {
   "cell_type": "markdown",
   "metadata": {},
   "source": [
    "# DSE Verification\n",
    "\n",
    "A list of Jupyter notebooks in this repository for working with libraries and data, grouped by topic. The notebooks accompany a series of [blog posts on the CITE Architecture]().\n",
    "\n",
    "\n",
    "## CITE Architecture\n",
    "\n",
    "- [Verify DSEs](cite/dse-vec.ipynb)\n"
   ]
  },
  {
   "cell_type": "code",
   "execution_count": null,
   "metadata": {},
   "outputs": [],
   "source": []
  }
 ],
 "metadata": {
  "kernelspec": {
   "display_name": "Scala",
   "language": "scala",
   "name": "scala"
  },
  "language_info": {
   "codemirror_mode": "text/x-scala",
   "file_extension": ".scala",
   "mimetype": "text/x-scala",
   "name": "scala",
   "nbconvert_exporter": "script",
   "version": "2.12.10"
  }
 },
 "nbformat": 4,
 "nbformat_minor": 2
}
